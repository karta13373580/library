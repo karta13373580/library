{
 "cells": [
  {
   "cell_type": "code",
   "execution_count": 1,
   "metadata": {},
   "outputs": [],
   "source": [
    "import pandas\n",
    "import matplotlib.pyplot as plt\n",
    "import numpy as np"
   ]
  },
  {
   "cell_type": "code",
   "execution_count": 2,
   "metadata": {},
   "outputs": [
    {
     "data": {
      "text/html": [
       "<div>\n",
       "<style scoped>\n",
       "    .dataframe tbody tr th:only-of-type {\n",
       "        vertical-align: middle;\n",
       "    }\n",
       "\n",
       "    .dataframe tbody tr th {\n",
       "        vertical-align: top;\n",
       "    }\n",
       "\n",
       "    .dataframe thead th {\n",
       "        text-align: right;\n",
       "    }\n",
       "</style>\n",
       "<table border=\"1\" class=\"dataframe\">\n",
       "  <thead>\n",
       "    <tr style=\"text-align: right;\">\n",
       "      <th></th>\n",
       "      <th>學生</th>\n",
       "      <th>刷卡時間</th>\n",
       "      <th>管制項目</th>\n",
       "    </tr>\n",
       "  </thead>\n",
       "  <tbody>\n",
       "    <tr>\n",
       "      <th>0</th>\n",
       "      <td>cce787e1b7fb1117964b842b4baefb09dc04a2ad</td>\n",
       "      <td>2012-05-28 14:11:50</td>\n",
       "      <td>進</td>\n",
       "    </tr>\n",
       "    <tr>\n",
       "      <th>1</th>\n",
       "      <td>cce787e1b7fb1117964b842b4baefb09dc04a2ad</td>\n",
       "      <td>2012-06-04 19:56:28</td>\n",
       "      <td>進</td>\n",
       "    </tr>\n",
       "    <tr>\n",
       "      <th>2</th>\n",
       "      <td>cce787e1b7fb1117964b842b4baefb09dc04a2ad</td>\n",
       "      <td>2012-06-05 21:37:12</td>\n",
       "      <td>進</td>\n",
       "    </tr>\n",
       "    <tr>\n",
       "      <th>3</th>\n",
       "      <td>cce787e1b7fb1117964b842b4baefb09dc04a2ad</td>\n",
       "      <td>2012-06-22 14:50:29</td>\n",
       "      <td>進</td>\n",
       "    </tr>\n",
       "    <tr>\n",
       "      <th>4</th>\n",
       "      <td>4001b68797019eee0d4c4379ceb556eafb7aef61</td>\n",
       "      <td>2011-12-18 15:04:59</td>\n",
       "      <td>進</td>\n",
       "    </tr>\n",
       "    <tr>\n",
       "      <th>5</th>\n",
       "      <td>179a0fba2afd5b67b9bacfd8e377136d818d17c7</td>\n",
       "      <td>2012-02-19 17:09:58</td>\n",
       "      <td>進</td>\n",
       "    </tr>\n",
       "    <tr>\n",
       "      <th>6</th>\n",
       "      <td>179a0fba2afd5b67b9bacfd8e377136d818d17c7</td>\n",
       "      <td>2012-02-20 09:12:09</td>\n",
       "      <td>進</td>\n",
       "    </tr>\n",
       "    <tr>\n",
       "      <th>7</th>\n",
       "      <td>179a0fba2afd5b67b9bacfd8e377136d818d17c7</td>\n",
       "      <td>2012-03-13 20:35:33</td>\n",
       "      <td>進</td>\n",
       "    </tr>\n",
       "    <tr>\n",
       "      <th>8</th>\n",
       "      <td>179a0fba2afd5b67b9bacfd8e377136d818d17c7</td>\n",
       "      <td>2012-03-27 19:35:02</td>\n",
       "      <td>進</td>\n",
       "    </tr>\n",
       "    <tr>\n",
       "      <th>9</th>\n",
       "      <td>179a0fba2afd5b67b9bacfd8e377136d818d17c7</td>\n",
       "      <td>2012-04-16 16:39:52</td>\n",
       "      <td>進</td>\n",
       "    </tr>\n",
       "  </tbody>\n",
       "</table>\n",
       "</div>"
      ],
      "text/plain": [
       "                                         學生                 刷卡時間 管制項目\n",
       "0  cce787e1b7fb1117964b842b4baefb09dc04a2ad  2012-05-28 14:11:50    進\n",
       "1  cce787e1b7fb1117964b842b4baefb09dc04a2ad  2012-06-04 19:56:28    進\n",
       "2  cce787e1b7fb1117964b842b4baefb09dc04a2ad  2012-06-05 21:37:12    進\n",
       "3  cce787e1b7fb1117964b842b4baefb09dc04a2ad  2012-06-22 14:50:29    進\n",
       "4  4001b68797019eee0d4c4379ceb556eafb7aef61  2011-12-18 15:04:59    進\n",
       "5  179a0fba2afd5b67b9bacfd8e377136d818d17c7  2012-02-19 17:09:58    進\n",
       "6  179a0fba2afd5b67b9bacfd8e377136d818d17c7  2012-02-20 09:12:09    進\n",
       "7  179a0fba2afd5b67b9bacfd8e377136d818d17c7  2012-03-13 20:35:33    進\n",
       "8  179a0fba2afd5b67b9bacfd8e377136d818d17c7  2012-03-27 19:35:02    進\n",
       "9  179a0fba2afd5b67b9bacfd8e377136d818d17c7  2012-04-16 16:39:52    進"
      ]
     },
     "execution_count": 2,
     "metadata": {},
     "output_type": "execute_result"
    }
   ],
   "source": [
    "import pandas as pd \n",
    "datainout = pd.read_csv(\"library_in_and_out_record.csv\",encoding='utf-8')\n",
    "datainout.head(10)"
   ]
  },
  {
   "cell_type": "code",
   "execution_count": 3,
   "metadata": {},
   "outputs": [
    {
     "data": {
      "text/html": [
       "<div>\n",
       "<style scoped>\n",
       "    .dataframe tbody tr th:only-of-type {\n",
       "        vertical-align: middle;\n",
       "    }\n",
       "\n",
       "    .dataframe tbody tr th {\n",
       "        vertical-align: top;\n",
       "    }\n",
       "\n",
       "    .dataframe thead th {\n",
       "        text-align: right;\n",
       "    }\n",
       "</style>\n",
       "<table border=\"1\" class=\"dataframe\">\n",
       "  <thead>\n",
       "    <tr style=\"text-align: right;\">\n",
       "      <th></th>\n",
       "      <th>學生</th>\n",
       "      <th>學年</th>\n",
       "      <th>年級</th>\n",
       "      <th>學期</th>\n",
       "      <th>概化排名</th>\n",
       "      <th>排名差</th>\n",
       "    </tr>\n",
       "  </thead>\n",
       "  <tbody>\n",
       "    <tr>\n",
       "      <th>0</th>\n",
       "      <td>0003764c18b55548b8e7e0a064fed87fb46fa2a2</td>\n",
       "      <td>100</td>\n",
       "      <td>1</td>\n",
       "      <td>1</td>\n",
       "      <td>5</td>\n",
       "      <td>0</td>\n",
       "    </tr>\n",
       "    <tr>\n",
       "      <th>1</th>\n",
       "      <td>0003764c18b55548b8e7e0a064fed87fb46fa2a2</td>\n",
       "      <td>100</td>\n",
       "      <td>1</td>\n",
       "      <td>2</td>\n",
       "      <td>5</td>\n",
       "      <td>-1</td>\n",
       "    </tr>\n",
       "    <tr>\n",
       "      <th>2</th>\n",
       "      <td>0003764c18b55548b8e7e0a064fed87fb46fa2a2</td>\n",
       "      <td>101</td>\n",
       "      <td>2</td>\n",
       "      <td>1</td>\n",
       "      <td>5</td>\n",
       "      <td>5</td>\n",
       "    </tr>\n",
       "    <tr>\n",
       "      <th>3</th>\n",
       "      <td>0003764c18b55548b8e7e0a064fed87fb46fa2a2</td>\n",
       "      <td>101</td>\n",
       "      <td>2</td>\n",
       "      <td>2</td>\n",
       "      <td>5</td>\n",
       "      <td>-2</td>\n",
       "    </tr>\n",
       "    <tr>\n",
       "      <th>4</th>\n",
       "      <td>0003764c18b55548b8e7e0a064fed87fb46fa2a2</td>\n",
       "      <td>102</td>\n",
       "      <td>3</td>\n",
       "      <td>1</td>\n",
       "      <td>5</td>\n",
       "      <td>2</td>\n",
       "    </tr>\n",
       "    <tr>\n",
       "      <th>5</th>\n",
       "      <td>0003764c18b55548b8e7e0a064fed87fb46fa2a2</td>\n",
       "      <td>102</td>\n",
       "      <td>3</td>\n",
       "      <td>2</td>\n",
       "      <td>5</td>\n",
       "      <td>-3</td>\n",
       "    </tr>\n",
       "    <tr>\n",
       "      <th>6</th>\n",
       "      <td>000675e0e40da4e4b79b9edf7ac80ac121b3cd69</td>\n",
       "      <td>103</td>\n",
       "      <td>1</td>\n",
       "      <td>1</td>\n",
       "      <td>5</td>\n",
       "      <td>0</td>\n",
       "    </tr>\n",
       "    <tr>\n",
       "      <th>7</th>\n",
       "      <td>000675e0e40da4e4b79b9edf7ac80ac121b3cd69</td>\n",
       "      <td>103</td>\n",
       "      <td>1</td>\n",
       "      <td>2</td>\n",
       "      <td>5</td>\n",
       "      <td>2</td>\n",
       "    </tr>\n",
       "    <tr>\n",
       "      <th>8</th>\n",
       "      <td>000675e0e40da4e4b79b9edf7ac80ac121b3cd69</td>\n",
       "      <td>104</td>\n",
       "      <td>2</td>\n",
       "      <td>1</td>\n",
       "      <td>5</td>\n",
       "      <td>-2</td>\n",
       "    </tr>\n",
       "    <tr>\n",
       "      <th>9</th>\n",
       "      <td>000675e0e40da4e4b79b9edf7ac80ac121b3cd69</td>\n",
       "      <td>104</td>\n",
       "      <td>2</td>\n",
       "      <td>2</td>\n",
       "      <td>5</td>\n",
       "      <td>1</td>\n",
       "    </tr>\n",
       "  </tbody>\n",
       "</table>\n",
       "</div>"
      ],
      "text/plain": [
       "                                         學生   學年  年級  學期  概化排名  排名差\n",
       "0  0003764c18b55548b8e7e0a064fed87fb46fa2a2  100   1   1     5    0\n",
       "1  0003764c18b55548b8e7e0a064fed87fb46fa2a2  100   1   2     5   -1\n",
       "2  0003764c18b55548b8e7e0a064fed87fb46fa2a2  101   2   1     5    5\n",
       "3  0003764c18b55548b8e7e0a064fed87fb46fa2a2  101   2   2     5   -2\n",
       "4  0003764c18b55548b8e7e0a064fed87fb46fa2a2  102   3   1     5    2\n",
       "5  0003764c18b55548b8e7e0a064fed87fb46fa2a2  102   3   2     5   -3\n",
       "6  000675e0e40da4e4b79b9edf7ac80ac121b3cd69  103   1   1     5    0\n",
       "7  000675e0e40da4e4b79b9edf7ac80ac121b3cd69  103   1   2     5    2\n",
       "8  000675e0e40da4e4b79b9edf7ac80ac121b3cd69  104   2   1     5   -2\n",
       "9  000675e0e40da4e4b79b9edf7ac80ac121b3cd69  104   2   2     5    1"
      ]
     },
     "execution_count": 3,
     "metadata": {},
     "output_type": "execute_result"
    }
   ],
   "source": [
    "datarank = pd.read_csv(\"rank_train.csv\",encoding='utf-8')\n",
    "datarank.head(10)"
   ]
  },
  {
   "cell_type": "code",
   "execution_count": 8,
   "metadata": {},
   "outputs": [
    {
     "data": {
      "text/html": [
       "<div>\n",
       "<style scoped>\n",
       "    .dataframe tbody tr th:only-of-type {\n",
       "        vertical-align: middle;\n",
       "    }\n",
       "\n",
       "    .dataframe tbody tr th {\n",
       "        vertical-align: top;\n",
       "    }\n",
       "\n",
       "    .dataframe thead th {\n",
       "        text-align: right;\n",
       "    }\n",
       "</style>\n",
       "<table border=\"1\" class=\"dataframe\">\n",
       "  <thead>\n",
       "    <tr style=\"text-align: right;\">\n",
       "      <th></th>\n",
       "      <th>學生</th>\n",
       "      <th>刷卡時間</th>\n",
       "      <th>管制項目</th>\n",
       "    </tr>\n",
       "  </thead>\n",
       "  <tbody>\n",
       "    <tr>\n",
       "      <th>0</th>\n",
       "      <td>cce787e1b7fb1117964b842b4baefb09dc04a2ad</td>\n",
       "      <td>2012-05-28 14:11:50</td>\n",
       "      <td>進</td>\n",
       "    </tr>\n",
       "    <tr>\n",
       "      <th>1</th>\n",
       "      <td>cce787e1b7fb1117964b842b4baefb09dc04a2ad</td>\n",
       "      <td>2012-06-04 19:56:28</td>\n",
       "      <td>進</td>\n",
       "    </tr>\n",
       "    <tr>\n",
       "      <th>2</th>\n",
       "      <td>cce787e1b7fb1117964b842b4baefb09dc04a2ad</td>\n",
       "      <td>2012-06-05 21:37:12</td>\n",
       "      <td>進</td>\n",
       "    </tr>\n",
       "    <tr>\n",
       "      <th>3</th>\n",
       "      <td>cce787e1b7fb1117964b842b4baefb09dc04a2ad</td>\n",
       "      <td>2012-06-22 14:50:29</td>\n",
       "      <td>進</td>\n",
       "    </tr>\n",
       "    <tr>\n",
       "      <th>4</th>\n",
       "      <td>4001b68797019eee0d4c4379ceb556eafb7aef61</td>\n",
       "      <td>2011-12-18 15:04:59</td>\n",
       "      <td>進</td>\n",
       "    </tr>\n",
       "    <tr>\n",
       "      <th>5</th>\n",
       "      <td>179a0fba2afd5b67b9bacfd8e377136d818d17c7</td>\n",
       "      <td>2012-02-19 17:09:58</td>\n",
       "      <td>進</td>\n",
       "    </tr>\n",
       "    <tr>\n",
       "      <th>6</th>\n",
       "      <td>179a0fba2afd5b67b9bacfd8e377136d818d17c7</td>\n",
       "      <td>2012-02-20 09:12:09</td>\n",
       "      <td>進</td>\n",
       "    </tr>\n",
       "    <tr>\n",
       "      <th>7</th>\n",
       "      <td>179a0fba2afd5b67b9bacfd8e377136d818d17c7</td>\n",
       "      <td>2012-03-13 20:35:33</td>\n",
       "      <td>進</td>\n",
       "    </tr>\n",
       "    <tr>\n",
       "      <th>8</th>\n",
       "      <td>179a0fba2afd5b67b9bacfd8e377136d818d17c7</td>\n",
       "      <td>2012-03-27 19:35:02</td>\n",
       "      <td>進</td>\n",
       "    </tr>\n",
       "    <tr>\n",
       "      <th>9</th>\n",
       "      <td>179a0fba2afd5b67b9bacfd8e377136d818d17c7</td>\n",
       "      <td>2012-04-16 16:39:52</td>\n",
       "      <td>進</td>\n",
       "    </tr>\n",
       "  </tbody>\n",
       "</table>\n",
       "</div>"
      ],
      "text/plain": [
       "                                         學生                 刷卡時間 管制項目\n",
       "0  cce787e1b7fb1117964b842b4baefb09dc04a2ad  2012-05-28 14:11:50    進\n",
       "1  cce787e1b7fb1117964b842b4baefb09dc04a2ad  2012-06-04 19:56:28    進\n",
       "2  cce787e1b7fb1117964b842b4baefb09dc04a2ad  2012-06-05 21:37:12    進\n",
       "3  cce787e1b7fb1117964b842b4baefb09dc04a2ad  2012-06-22 14:50:29    進\n",
       "4  4001b68797019eee0d4c4379ceb556eafb7aef61  2011-12-18 15:04:59    進\n",
       "5  179a0fba2afd5b67b9bacfd8e377136d818d17c7  2012-02-19 17:09:58    進\n",
       "6  179a0fba2afd5b67b9bacfd8e377136d818d17c7  2012-02-20 09:12:09    進\n",
       "7  179a0fba2afd5b67b9bacfd8e377136d818d17c7  2012-03-13 20:35:33    進\n",
       "8  179a0fba2afd5b67b9bacfd8e377136d818d17c7  2012-03-27 19:35:02    進\n",
       "9  179a0fba2afd5b67b9bacfd8e377136d818d17c7  2012-04-16 16:39:52    進"
      ]
     },
     "execution_count": 8,
     "metadata": {},
     "output_type": "execute_result"
    }
   ],
   "source": [
    "datainout = pd.read_csv(\"library_in_and_out_record.csv\",encoding='utf-8')\n",
    "datainout.head(10)"
   ]
  },
  {
   "cell_type": "code",
   "execution_count": 5,
   "metadata": {},
   "outputs": [
    {
     "ename": "NameError",
     "evalue": "name 'borrowing' is not defined",
     "output_type": "error",
     "traceback": [
      "\u001b[1;31m---------------------------------------------------------------------------\u001b[0m",
      "\u001b[1;31mNameError\u001b[0m                                 Traceback (most recent call last)",
      "\u001b[1;32m<ipython-input-5-3c62cf42f074>\u001b[0m in \u001b[0;36m<module>\u001b[1;34m\u001b[0m\n\u001b[1;32m----> 1\u001b[1;33m \u001b[0mborrowing\u001b[0m\u001b[1;33m[\u001b[0m\u001b[1;34m'2019-2'\u001b[0m\u001b[1;33m:\u001b[0m\u001b[1;34m'2019-8'\u001b[0m\u001b[1;33m]\u001b[0m\u001b[1;33m\u001b[0m\u001b[1;33m\u001b[0m\u001b[0m\n\u001b[0m",
      "\u001b[1;31mNameError\u001b[0m: name 'borrowing' is not defined"
     ]
    }
   ],
   "source": [
    "borrowing['2019-2':'2019-8']"
   ]
  },
  {
   "cell_type": "code",
   "execution_count": 6,
   "metadata": {},
   "outputs": [
    {
     "name": "stdout",
     "output_type": "stream",
     "text": [
      "(927289, 3)\n"
     ]
    }
   ],
   "source": [
    "print(datainout.shape)"
   ]
  },
  {
   "cell_type": "code",
   "execution_count": 8,
   "metadata": {},
   "outputs": [
    {
     "name": "stdout",
     "output_type": "stream",
     "text": [
      "                                              學生                 刷卡時間    管制項目\n",
      "count                                     927289               927289  927289\n",
      "unique                                     12490               917974       2\n",
      "top     d5d846a4754c1188cc18383f06031784d6624134  2018-06-27 16:13:44       進\n",
      "freq                                        2461                    3  717629\n"
     ]
    }
   ],
   "source": [
    "print(datainout.describe())"
   ]
  },
  {
   "cell_type": "code",
   "execution_count": 11,
   "metadata": {},
   "outputs": [
    {
     "name": "stdout",
     "output_type": "stream",
     "text": [
      "<class 'pandas.core.frame.DataFrame'>\n",
      "RangeIndex: 927289 entries, 0 to 927288\n",
      "Data columns (total 3 columns):\n",
      " #   Column  Non-Null Count   Dtype \n",
      "---  ------  --------------   ----- \n",
      " 0   學生      927289 non-null  object\n",
      " 1   刷卡時間    927289 non-null  object\n",
      " 2   管制項目    927289 non-null  object\n",
      "dtypes: object(3)\n",
      "memory usage: 21.2+ MB\n",
      "None\n"
     ]
    }
   ],
   "source": [
    "print(datainout.info())"
   ]
  },
  {
   "cell_type": "code",
   "execution_count": 14,
   "metadata": {},
   "outputs": [
    {
     "name": "stdout",
     "output_type": "stream",
     "text": [
      "                                         學生                 刷卡時間 管制項目  \\\n",
      "0  cce787e1b7fb1117964b842b4baefb09dc04a2ad  2012-05-28 14:11:50    進   \n",
      "1  cce787e1b7fb1117964b842b4baefb09dc04a2ad  2012-06-04 19:56:28    進   \n",
      "2  cce787e1b7fb1117964b842b4baefb09dc04a2ad  2012-06-05 21:37:12    進   \n",
      "3  cce787e1b7fb1117964b842b4baefb09dc04a2ad  2012-06-22 14:50:29    進   \n",
      "4  4001b68797019eee0d4c4379ceb556eafb7aef61  2011-12-18 15:04:59    進   \n",
      "5  179a0fba2afd5b67b9bacfd8e377136d818d17c7  2012-02-19 17:09:58    進   \n",
      "6  179a0fba2afd5b67b9bacfd8e377136d818d17c7  2012-02-20 09:12:09    進   \n",
      "7  179a0fba2afd5b67b9bacfd8e377136d818d17c7  2012-03-13 20:35:33    進   \n",
      "8  179a0fba2afd5b67b9bacfd8e377136d818d17c7  2012-03-27 19:35:02    進   \n",
      "9  179a0fba2afd5b67b9bacfd8e377136d818d17c7  2012-04-16 16:39:52    進   \n",
      "\n",
      "   inandout  \n",
      "0         1  \n",
      "1         1  \n",
      "2         1  \n",
      "3         1  \n",
      "4         1  \n",
      "5         1  \n",
      "6         1  \n",
      "7         1  \n",
      "8         1  \n",
      "9         1  \n"
     ]
    }
   ],
   "source": [
    "datainout[\"inandout\"] = np.where(datainout[\"管制項目\"]== \"進\" , 1 , 0)\n",
    "print(datainout.head(10))"
   ]
  },
  {
   "cell_type": "code",
   "execution_count": 35,
   "metadata": {},
   "outputs": [],
   "source": [
    "import csv , os"
   ]
  },
  {
   "cell_type": "code",
   "execution_count": 52,
   "metadata": {},
   "outputs": [
    {
     "data": {
      "text/html": [
       "<div>\n",
       "<style scoped>\n",
       "    .dataframe tbody tr th:only-of-type {\n",
       "        vertical-align: middle;\n",
       "    }\n",
       "\n",
       "    .dataframe tbody tr th {\n",
       "        vertical-align: top;\n",
       "    }\n",
       "\n",
       "    .dataframe thead th {\n",
       "        text-align: right;\n",
       "    }\n",
       "</style>\n",
       "<table border=\"1\" class=\"dataframe\">\n",
       "  <thead>\n",
       "    <tr style=\"text-align: right;\">\n",
       "      <th></th>\n",
       "      <th>學生</th>\n",
       "      <th>刷卡時間</th>\n",
       "      <th>管制項目</th>\n",
       "    </tr>\n",
       "  </thead>\n",
       "  <tbody>\n",
       "    <tr>\n",
       "      <th>0</th>\n",
       "      <td>cce787e1b7fb1117964b842b4baefb09dc04a2ad</td>\n",
       "      <td>2012-05-28 14:11:50</td>\n",
       "      <td>進</td>\n",
       "    </tr>\n",
       "  </tbody>\n",
       "</table>\n",
       "</div>"
      ],
      "text/plain": [
       "                                         學生                 刷卡時間 管制項目\n",
       "0  cce787e1b7fb1117964b842b4baefb09dc04a2ad  2012-05-28 14:11:50    進"
      ]
     },
     "execution_count": 52,
     "metadata": {},
     "output_type": "execute_result"
    }
   ],
   "source": [
    "datainout = pd.read_csv(\"library_in_and_out_record.csv\",encoding='utf-8')\n",
    "datainout.head(1)\n",
    "#datainout.head(10)"
   ]
  },
  {
   "cell_type": "code",
   "execution_count": 120,
   "metadata": {},
   "outputs": [
    {
     "ename": "ValueError",
     "evalue": "Length mismatch: Expected axis has 6 elements, new values have 3 elements",
     "output_type": "error",
     "traceback": [
      "\u001b[1;31m---------------------------------------------------------------------------\u001b[0m",
      "\u001b[1;31mValueError\u001b[0m                                Traceback (most recent call last)",
      "\u001b[1;32m<ipython-input-120-f8f8a8ca3608>\u001b[0m in \u001b[0;36m<module>\u001b[1;34m\u001b[0m\n\u001b[1;32m----> 1\u001b[1;33m \u001b[0mdatainout\u001b[0m\u001b[1;33m.\u001b[0m\u001b[0mcolumns\u001b[0m \u001b[1;33m=\u001b[0m \u001b[1;33m[\u001b[0m\u001b[1;34m'students'\u001b[0m\u001b[1;33m,\u001b[0m\u001b[1;34m'time'\u001b[0m\u001b[1;33m,\u001b[0m\u001b[1;34m'IO'\u001b[0m\u001b[1;33m]\u001b[0m\u001b[1;33m\u001b[0m\u001b[1;33m\u001b[0m\u001b[0m\n\u001b[0m",
      "\u001b[1;32m~\\.conda\\envs\\tensorflow\\lib\\site-packages\\pandas\\core\\generic.py\u001b[0m in \u001b[0;36m__setattr__\u001b[1;34m(self, name, value)\u001b[0m\n\u001b[0;32m   5285\u001b[0m         \u001b[1;32mtry\u001b[0m\u001b[1;33m:\u001b[0m\u001b[1;33m\u001b[0m\u001b[1;33m\u001b[0m\u001b[0m\n\u001b[0;32m   5286\u001b[0m             \u001b[0mobject\u001b[0m\u001b[1;33m.\u001b[0m\u001b[0m__getattribute__\u001b[0m\u001b[1;33m(\u001b[0m\u001b[0mself\u001b[0m\u001b[1;33m,\u001b[0m \u001b[0mname\u001b[0m\u001b[1;33m)\u001b[0m\u001b[1;33m\u001b[0m\u001b[1;33m\u001b[0m\u001b[0m\n\u001b[1;32m-> 5287\u001b[1;33m             \u001b[1;32mreturn\u001b[0m \u001b[0mobject\u001b[0m\u001b[1;33m.\u001b[0m\u001b[0m__setattr__\u001b[0m\u001b[1;33m(\u001b[0m\u001b[0mself\u001b[0m\u001b[1;33m,\u001b[0m \u001b[0mname\u001b[0m\u001b[1;33m,\u001b[0m \u001b[0mvalue\u001b[0m\u001b[1;33m)\u001b[0m\u001b[1;33m\u001b[0m\u001b[1;33m\u001b[0m\u001b[0m\n\u001b[0m\u001b[0;32m   5288\u001b[0m         \u001b[1;32mexcept\u001b[0m \u001b[0mAttributeError\u001b[0m\u001b[1;33m:\u001b[0m\u001b[1;33m\u001b[0m\u001b[1;33m\u001b[0m\u001b[0m\n\u001b[0;32m   5289\u001b[0m             \u001b[1;32mpass\u001b[0m\u001b[1;33m\u001b[0m\u001b[1;33m\u001b[0m\u001b[0m\n",
      "\u001b[1;32mpandas\\_libs\\properties.pyx\u001b[0m in \u001b[0;36mpandas._libs.properties.AxisProperty.__set__\u001b[1;34m()\u001b[0m\n",
      "\u001b[1;32m~\\.conda\\envs\\tensorflow\\lib\\site-packages\\pandas\\core\\generic.py\u001b[0m in \u001b[0;36m_set_axis\u001b[1;34m(self, axis, labels)\u001b[0m\n\u001b[0;32m    659\u001b[0m \u001b[1;33m\u001b[0m\u001b[0m\n\u001b[0;32m    660\u001b[0m     \u001b[1;32mdef\u001b[0m \u001b[0m_set_axis\u001b[0m\u001b[1;33m(\u001b[0m\u001b[0mself\u001b[0m\u001b[1;33m,\u001b[0m \u001b[0maxis\u001b[0m\u001b[1;33m,\u001b[0m \u001b[0mlabels\u001b[0m\u001b[1;33m)\u001b[0m \u001b[1;33m->\u001b[0m \u001b[1;32mNone\u001b[0m\u001b[1;33m:\u001b[0m\u001b[1;33m\u001b[0m\u001b[1;33m\u001b[0m\u001b[0m\n\u001b[1;32m--> 661\u001b[1;33m         \u001b[0mself\u001b[0m\u001b[1;33m.\u001b[0m\u001b[0m_data\u001b[0m\u001b[1;33m.\u001b[0m\u001b[0mset_axis\u001b[0m\u001b[1;33m(\u001b[0m\u001b[0maxis\u001b[0m\u001b[1;33m,\u001b[0m \u001b[0mlabels\u001b[0m\u001b[1;33m)\u001b[0m\u001b[1;33m\u001b[0m\u001b[1;33m\u001b[0m\u001b[0m\n\u001b[0m\u001b[0;32m    662\u001b[0m         \u001b[0mself\u001b[0m\u001b[1;33m.\u001b[0m\u001b[0m_clear_item_cache\u001b[0m\u001b[1;33m(\u001b[0m\u001b[1;33m)\u001b[0m\u001b[1;33m\u001b[0m\u001b[1;33m\u001b[0m\u001b[0m\n\u001b[0;32m    663\u001b[0m \u001b[1;33m\u001b[0m\u001b[0m\n",
      "\u001b[1;32m~\\.conda\\envs\\tensorflow\\lib\\site-packages\\pandas\\core\\internals\\managers.py\u001b[0m in \u001b[0;36mset_axis\u001b[1;34m(self, axis, new_labels)\u001b[0m\n\u001b[0;32m    176\u001b[0m         \u001b[1;32mif\u001b[0m \u001b[0mnew_len\u001b[0m \u001b[1;33m!=\u001b[0m \u001b[0mold_len\u001b[0m\u001b[1;33m:\u001b[0m\u001b[1;33m\u001b[0m\u001b[1;33m\u001b[0m\u001b[0m\n\u001b[0;32m    177\u001b[0m             raise ValueError(\n\u001b[1;32m--> 178\u001b[1;33m                 \u001b[1;34mf\"Length mismatch: Expected axis has {old_len} elements, new \"\u001b[0m\u001b[1;33m\u001b[0m\u001b[1;33m\u001b[0m\u001b[0m\n\u001b[0m\u001b[0;32m    179\u001b[0m                 \u001b[1;34mf\"values have {new_len} elements\"\u001b[0m\u001b[1;33m\u001b[0m\u001b[1;33m\u001b[0m\u001b[0m\n\u001b[0;32m    180\u001b[0m             )\n",
      "\u001b[1;31mValueError\u001b[0m: Length mismatch: Expected axis has 6 elements, new values have 3 elements"
     ]
    }
   ],
   "source": [
    "datainout.columns = ['students','time','IO']"
   ]
  },
  {
   "cell_type": "code",
   "execution_count": 54,
   "metadata": {},
   "outputs": [],
   "source": [
    "datainout['time'] = pd.to_datetime(datainout['time']) "
   ]
  },
  {
   "cell_type": "code",
   "execution_count": 55,
   "metadata": {},
   "outputs": [
    {
     "name": "stdout",
     "output_type": "stream",
     "text": [
      "                                                     students IO\n",
      "time                                                            \n",
      "2012-05-28 14:11:50  cce787e1b7fb1117964b842b4baefb09dc04a2ad  進\n",
      "2012-06-04 19:56:28  cce787e1b7fb1117964b842b4baefb09dc04a2ad  進\n",
      "                                                     students IO\n",
      "time                                                            \n",
      "2019-07-31 16:55:31  e64ca6f37e7cfb0b417d31d0667d68f8d42069c4  出\n",
      "2019-07-31 17:04:08  49fb5b6e167d77cfd49c7bfa50fc431553755540  出\n",
      "(927289, 2)\n"
     ]
    }
   ],
   "source": [
    "datainout = datainout.set_index('time')\n",
    "print(datainout.head(2))\n",
    "print(datainout.tail(2))\n",
    "print(datainout.shape)"
   ]
  },
  {
   "cell_type": "code",
   "execution_count": 56,
   "metadata": {},
   "outputs": [
    {
     "name": "stdout",
     "output_type": "stream",
     "text": [
      "<class 'pandas.core.frame.DataFrame'>\n",
      "DatetimeIndex(['2012-05-28 14:11:50', '2012-06-04 19:56:28',\n",
      "               '2012-06-05 21:37:12', '2012-06-22 14:50:29',\n",
      "               '2011-12-18 15:04:59', '2012-02-19 17:09:58',\n",
      "               '2012-02-20 09:12:09', '2012-03-13 20:35:33',\n",
      "               '2012-03-27 19:35:02', '2012-04-16 16:39:52',\n",
      "               ...\n",
      "               '2019-07-31 15:00:50', '2019-07-31 15:13:40',\n",
      "               '2019-07-31 15:24:00', '2019-07-31 15:54:44',\n",
      "               '2019-07-31 15:57:43', '2019-07-31 16:02:19',\n",
      "               '2019-07-31 16:27:56', '2019-07-31 16:41:21',\n",
      "               '2019-07-31 16:55:31', '2019-07-31 17:04:08'],\n",
      "              dtype='datetime64[ns]', name='time', length=927289, freq=None)\n",
      "<class 'pandas.core.indexes.datetimes.DatetimeIndex'>\n"
     ]
    }
   ],
   "source": [
    "print(type(datainout))\n",
    "print(datainout.index)\n",
    "print(type(datainout.index))"
   ]
  },
  {
   "cell_type": "code",
   "execution_count": 71,
   "metadata": {},
   "outputs": [
    {
     "name": "stdout",
     "output_type": "stream",
     "text": [
      "                                                     students IO\n",
      "time                                                            \n",
      "2012-05-28 14:11:50  cce787e1b7fb1117964b842b4baefb09dc04a2ad  進\n",
      "2012-06-04 19:56:28  cce787e1b7fb1117964b842b4baefb09dc04a2ad  進\n",
      "2012-06-05 21:37:12  cce787e1b7fb1117964b842b4baefb09dc04a2ad  進\n",
      "2012-06-22 14:50:29  cce787e1b7fb1117964b842b4baefb09dc04a2ad  進\n",
      "2012-02-19 17:09:58  179a0fba2afd5b67b9bacfd8e377136d818d17c7  進\n",
      "...                                                       ... ..\n",
      "2012-08-27 08:29:50  a7617159fc1a295deb76170f50c3872f2420a891  進\n",
      "2012-08-17 13:24:26  8b727022b1f2a152e0b77ff21fb4c59b18ef83e0  進\n",
      "2012-08-20 15:33:00  19377ee6fc355a643efa1004dde5437b60a887ef  進\n",
      "2012-08-21 12:45:07  19377ee6fc355a643efa1004dde5437b60a887ef  進\n",
      "2012-08-27 12:58:50  85b40bb5f616c89b167947f99e41628783b245e0  進\n",
      "\n",
      "[7643 rows x 2 columns]\n"
     ]
    }
   ],
   "source": [
    "print(datainout['2012-2':'2012-8'])"
   ]
  },
  {
   "cell_type": "code",
   "execution_count": 109,
   "metadata": {},
   "outputs": [],
   "source": [
    "libraryin = pd.DataFrame(datainout['2018-9':'2019-1'])"
   ]
  },
  {
   "cell_type": "code",
   "execution_count": 110,
   "metadata": {},
   "outputs": [],
   "source": [
    "libraryin.to_csv('library_107_1.csv',encoding='big5',index = False)"
   ]
  },
  {
   "cell_type": "code",
   "execution_count": 87,
   "metadata": {},
   "outputs": [
    {
     "data": {
      "text/plain": [
       "<bound method NDFrame.head of                                        students IO\n",
       "0      62b25b5e5c1e300e81a5f87b0743355920bcf1ea  進\n",
       "1      79ecd0b8b9bd49361766f8115d7299005dfb4329  進\n",
       "2      79ecd0b8b9bd49361766f8115d7299005dfb4329  進\n",
       "3      79ecd0b8b9bd49361766f8115d7299005dfb4329  進\n",
       "4      79ecd0b8b9bd49361766f8115d7299005dfb4329  進\n",
       "...                                         ... ..\n",
       "30536  f0db949c1ab954ce9b352e9f02448bc93724b369  進\n",
       "30537  fcf88391c6ffbf06cc9d183a19141eed2a38ff91  進\n",
       "30538  7080d6d57ae9e019935c4b5b07a39fef2d6ccc11  進\n",
       "30539  7080d6d57ae9e019935c4b5b07a39fef2d6ccc11  進\n",
       "30540  a476074c8db896c9821b83830788014f0939e851  進\n",
       "\n",
       "[30541 rows x 2 columns]>"
      ]
     },
     "execution_count": 87,
     "metadata": {},
     "output_type": "execute_result"
    }
   ],
   "source": [
    "library = pd.read_csv('library_101_2.csv',encoding='utf-8')\n",
    "library.head"
   ]
  },
  {
   "cell_type": "code",
   "execution_count": 117,
   "metadata": {},
   "outputs": [
    {
     "name": "stdout",
     "output_type": "stream",
     "text": [
      "Empty DataFrame\n",
      "Columns: [students, IO]\n",
      "Index: []\n"
     ]
    }
   ],
   "source": [
    "print(datainout['2019-1':'2019-8'])"
   ]
  },
  {
   "cell_type": "code",
   "execution_count": 111,
   "metadata": {},
   "outputs": [],
   "source": [
    "library_in = pd.read_csv('library_100_1.csv',encoding='utf-8')"
   ]
  },
  {
   "cell_type": "code",
   "execution_count": 114,
   "metadata": {},
   "outputs": [
    {
     "name": "stdout",
     "output_type": "stream",
     "text": [
      "4001b68797019eee0d4c4379ceb556eafb7aef61\n",
      "3308e53deb66d6c68cc9ad93416b2e449b485ece\n",
      "43e7647cf111db61eca1fa3fed852d3b955bb9d1\n",
      "86791d2412c574bfdb2428743f194f3736fb6882\n",
      "86791d2412c574bfdb2428743f194f3736fb6882\n",
      "86791d2412c574bfdb2428743f194f3736fb6882\n",
      "86791d2412c574bfdb2428743f194f3736fb6882\n",
      "86791d2412c574bfdb2428743f194f3736fb6882\n",
      "b3106c5576d46d51f1991e766cde542ea48e2c3a\n",
      "4c9aa55753fdd999e6ce6a29ffcef7c80bde7a43\n",
      "278518d3fce3cdb4ac1ef37ca40306bb5199e235\n",
      "6831739fee7e0609786d08ed6ff5b8d8a276e121\n",
      "be172b9d417b2f35dee3c878882698f7e96f5f47\n",
      "4b24b899f58ad4d7a06d728a052a958d6a63f1fd\n",
      "4b24b899f58ad4d7a06d728a052a958d6a63f1fd\n",
      "4b24b899f58ad4d7a06d728a052a958d6a63f1fd\n",
      "1af579072ee6f832453ff6148118491d9315ab69\n",
      "295c1b6021204aeaa7748fe822cf52b03e90f143\n",
      "8eb192fef4b9903e101a1aac4360ec0e77bd693e\n",
      "05f8fc9111d0dcc6e5f1661571fdbe41143e1b56\n",
      "ad0cbf246cfb0690c1618041be65fbe6a4fa458f\n",
      "ad0cbf246cfb0690c1618041be65fbe6a4fa458f\n",
      "ad0cbf246cfb0690c1618041be65fbe6a4fa458f\n",
      "b7485b390efca905d904d50d81068d7fc2fe9e3d\n",
      "e2252dfcfb4305021627694085908f255bbf94b6\n",
      "a091a26fd846bac26a3e17ade107b73284ebce35\n",
      "13afc2480d58f31c9891b08a5b6d782d4c02d92d\n",
      "08fc5cc1dc3e996df8fbe7593fa8ce139cb96e98\n",
      "4adecb977fa2d48cbd0eb0ff5ce9858e6ba64205\n",
      "b4e95b52e3291c4f182c96da825c7997fda38fb7\n",
      "374c4aa5d0aeaf486e4a2905217477ccb4864040\n",
      "82cd83af793e19bcff62154a2ee57cfdf2ab7815\n",
      "f157e892ad31e82447ed3c51a4d975c9bbcd84d1\n",
      "e3a5d7bab13c6e603c14ccd05dca6b852ae605ec\n",
      "e3a5d7bab13c6e603c14ccd05dca6b852ae605ec\n",
      "e3a5d7bab13c6e603c14ccd05dca6b852ae605ec\n",
      "45bcf1bb3653f975140194493e040d1e0ee86ece\n",
      "e062d372accff3777daf3c643c66ef81212c1783\n",
      "78d4907b482254e85db3b9d234c217aad6bbdfcb\n",
      "78d4907b482254e85db3b9d234c217aad6bbdfcb\n",
      "78d4907b482254e85db3b9d234c217aad6bbdfcb\n",
      "78d4907b482254e85db3b9d234c217aad6bbdfcb\n",
      "78d4907b482254e85db3b9d234c217aad6bbdfcb\n",
      "babd20b33dc7c62147f1bf2243a544e0586dec8d\n",
      "e004aefd5219c456a2c517de68259cd4fad124cc\n",
      "39e16caad288dabb45ee8c25688dcb8c8e5ce8ff\n",
      "39e16caad288dabb45ee8c25688dcb8c8e5ce8ff\n",
      "1b1b769d38312e168e091dc8c748537128ccc420\n",
      "4451d60ff24b9561ec3ddea0075f25e9dbc0b62b\n",
      "802ee802243dc490a46a3e53f8ab153e82d45ef5\n",
      "802ee802243dc490a46a3e53f8ab153e82d45ef5\n",
      "ec46c6119c98e73d50d87ea9b91bb421dbe3fdc8\n",
      "c786bae9739589df7c2575644b601f5da0ec19ef\n",
      "d64597a61759b5b582fb0ef5ad8060019bf3d06f\n",
      "f8b9919346fb1f8c384cc8aebae680b1c25d7164\n",
      "b26fae6806e402769a47583cbe0138b4e2ed9114\n",
      "b26fae6806e402769a47583cbe0138b4e2ed9114\n",
      "a3abe137bf9a8a60845aed18f42f52aa2a7ca907\n",
      "a3abe137bf9a8a60845aed18f42f52aa2a7ca907\n",
      "b7e790e88620cb5b2b724f619c43351a93b35725\n",
      "8aff507137e5729960f38caab79fa551a024c9de\n",
      "4ea07f6381f1de61d616145e105669538d7a2413\n",
      "4ea07f6381f1de61d616145e105669538d7a2413\n",
      "7c546345ab5ab4b7a7b3e062bc4f44542689370b\n",
      "200ff09b7f380984918ddb4284ee0c966dcf4dd4\n",
      "200ff09b7f380984918ddb4284ee0c966dcf4dd4\n",
      "200ff09b7f380984918ddb4284ee0c966dcf4dd4\n",
      "0f77f1cba852abdfc2ec341556a667c27162aff8\n",
      "6a599115f7e4bcc650548581f5d352490e623478\n",
      "0b21fd687afb0ae0ea30aec2fbea8ab6590dfa84\n",
      "cc18b34cef4859fea142135be153574e6336c7b2\n",
      "d879d1b93c496441089fdafb1c2641bc8f311f8a\n",
      "a59b4c4ab03a2ce03e08a95883d8ea28ae599180\n",
      "ee0fc453d1a62ce41ee57ccafc3e82beaa5b0d54\n",
      "ee0fc453d1a62ce41ee57ccafc3e82beaa5b0d54\n",
      "bad052f8d82537bfca1552f98e0c752cf202233e\n",
      "bad052f8d82537bfca1552f98e0c752cf202233e\n",
      "bad052f8d82537bfca1552f98e0c752cf202233e\n",
      "a50d3f96bf61cd255a1651fca5692eb82d90733b\n",
      "a50d3f96bf61cd255a1651fca5692eb82d90733b\n",
      "a50d3f96bf61cd255a1651fca5692eb82d90733b\n",
      "a50d3f96bf61cd255a1651fca5692eb82d90733b\n",
      "9ff6da16472d9dcd9145782646548dcf6644c5ee\n",
      "9ff6da16472d9dcd9145782646548dcf6644c5ee\n",
      "9ff6da16472d9dcd9145782646548dcf6644c5ee\n",
      "9ff6da16472d9dcd9145782646548dcf6644c5ee\n",
      "538905f390582f0a08bd9c01933175e67c6f3925\n",
      "19eab07354b00973b43fbd106fb313d15e1f205b\n",
      "d0d310bb9045ecf765face7656bff8c221c55cb8\n",
      "06d5f1467a5384a60efeabba16781fb56dea3541\n",
      "06d5f1467a5384a60efeabba16781fb56dea3541\n",
      "06d5f1467a5384a60efeabba16781fb56dea3541\n",
      "06d5f1467a5384a60efeabba16781fb56dea3541\n",
      "06d5f1467a5384a60efeabba16781fb56dea3541\n",
      "06d5f1467a5384a60efeabba16781fb56dea3541\n",
      "8c808f7987a69481c6ad1289ea87ac0b7d6a0bec\n",
      "96ee8f2235aa266b03ce44d50b91a76de54e3861\n",
      "3bb5644ace03c2d2e9c80c5820154bdfea1c1a04\n",
      "3bb5644ace03c2d2e9c80c5820154bdfea1c1a04\n",
      "3bb5644ace03c2d2e9c80c5820154bdfea1c1a04\n",
      "d138d66c345b4a5aa5ac96f29f90acefa1b41d0f\n",
      "d138d66c345b4a5aa5ac96f29f90acefa1b41d0f\n",
      "d138d66c345b4a5aa5ac96f29f90acefa1b41d0f\n",
      "d138d66c345b4a5aa5ac96f29f90acefa1b41d0f\n",
      "d138d66c345b4a5aa5ac96f29f90acefa1b41d0f\n",
      "d138d66c345b4a5aa5ac96f29f90acefa1b41d0f\n",
      "d138d66c345b4a5aa5ac96f29f90acefa1b41d0f\n",
      "ac04b39134a91b44705820ada7dcf6a3a294c5a9\n",
      "ac04b39134a91b44705820ada7dcf6a3a294c5a9\n",
      "ac04b39134a91b44705820ada7dcf6a3a294c5a9\n",
      "ac04b39134a91b44705820ada7dcf6a3a294c5a9\n",
      "ac04b39134a91b44705820ada7dcf6a3a294c5a9\n",
      "ac04b39134a91b44705820ada7dcf6a3a294c5a9\n",
      "03c14ebbea367e5f993b8015bbdc5891261ae74d\n",
      "0f35992a347531e4a721ee4cbd6b181fd0e111f8\n",
      "0f35992a347531e4a721ee4cbd6b181fd0e111f8\n",
      "0f35992a347531e4a721ee4cbd6b181fd0e111f8\n",
      "0f35992a347531e4a721ee4cbd6b181fd0e111f8\n",
      "0f35992a347531e4a721ee4cbd6b181fd0e111f8\n",
      "0f35992a347531e4a721ee4cbd6b181fd0e111f8\n",
      "27dfe2960c2d3a74d68a6ca6c6bbe14708f2f876\n",
      "27dfe2960c2d3a74d68a6ca6c6bbe14708f2f876\n",
      "813f0ab79b878ed384cf5c1f53ece22fe91f6b9c\n",
      "456770b6f87ebbe4fde4c76bb0c78713db5189b4\n",
      "456770b6f87ebbe4fde4c76bb0c78713db5189b4\n",
      "c06287d92198783cb3c5c9d40c3ecab2321a793b\n",
      "ee98889468c528c102a5bb27402a484dee23be5d\n",
      "96233e24f182a1e055bd2258f108633cf2be85d7\n",
      "96233e24f182a1e055bd2258f108633cf2be85d7\n",
      "96233e24f182a1e055bd2258f108633cf2be85d7\n",
      "96233e24f182a1e055bd2258f108633cf2be85d7\n",
      "99432c875361a65a38e6748d5238f7f52e054925\n",
      "a3ee99a83fadeee7fb921bb81cccc57d1f5ac0c2\n",
      "a3ee99a83fadeee7fb921bb81cccc57d1f5ac0c2\n",
      "a3ee99a83fadeee7fb921bb81cccc57d1f5ac0c2\n",
      "a3ee99a83fadeee7fb921bb81cccc57d1f5ac0c2\n",
      "a3ee99a83fadeee7fb921bb81cccc57d1f5ac0c2\n",
      "a3ee99a83fadeee7fb921bb81cccc57d1f5ac0c2\n",
      "02085b5c4812f472605e68f47ac93d2367918ada\n",
      "1e02078a552290aed362bc1a4b26cc9812c2c8e8\n",
      "1e02078a552290aed362bc1a4b26cc9812c2c8e8\n",
      "1e02078a552290aed362bc1a4b26cc9812c2c8e8\n",
      "1e02078a552290aed362bc1a4b26cc9812c2c8e8\n",
      "51bd5a572db207357855e3ec0c4cc004470b873e\n",
      "17a08b8ae3fe81ed7638d4ef53079e02f2e5d673\n",
      "17a08b8ae3fe81ed7638d4ef53079e02f2e5d673\n",
      "17a08b8ae3fe81ed7638d4ef53079e02f2e5d673\n",
      "17a08b8ae3fe81ed7638d4ef53079e02f2e5d673\n",
      "340b2526c07daf3740a99165bb5c4d814837da7e\n",
      "28070e52e7e7734614ed885bd275b6143b15111b\n",
      "07c7791c95f31c1a5cd91e1c04046d111057d3bd\n",
      "07c7791c95f31c1a5cd91e1c04046d111057d3bd\n",
      "c42c986e3ac2071d59974553ba762a162313f143\n",
      "c42c986e3ac2071d59974553ba762a162313f143\n",
      "2d82e5d2ad7f46997e80c728b3338cc9e404ac8d\n",
      "2d82e5d2ad7f46997e80c728b3338cc9e404ac8d\n",
      "628d9f5e8470103d86a82f83a775bd05281b4c38\n",
      "a96c7a154bb28d6c8dfe8cf0e9b0ddec2f77495a\n",
      "e8392397aea8ef359bb9ea9e914fb6f5280cbddd\n",
      "da0f54fa7ad0fcd34e41660e199197e99956946a\n",
      "f9f4e6b8429e03b6cbe0c173474711fd3e5c0334\n",
      "f9f4e6b8429e03b6cbe0c173474711fd3e5c0334\n",
      "9b34088f1e3b9757424ac379c01bbe0014e483cc\n",
      "9b34088f1e3b9757424ac379c01bbe0014e483cc\n",
      "8f31a98ad0cbe996415e8feb10cc7842a163c5ea\n",
      "17b99dc509737d9fcdbf55a6630e4ed5254bd994\n",
      "17b99dc509737d9fcdbf55a6630e4ed5254bd994\n",
      "e216357646151b910c0a838c0b609c18478c2f87\n",
      "0d6e77a7936668d39214f7698da2229f5975ef9a\n",
      "0d6e77a7936668d39214f7698da2229f5975ef9a\n",
      "0d6e77a7936668d39214f7698da2229f5975ef9a\n",
      "d0b0f63513edca9634cac7e17b4fa93743816a49\n",
      "e53f6177b2a3e2ef096120a9fed13b5353f2ef7e\n",
      "e53f6177b2a3e2ef096120a9fed13b5353f2ef7e\n",
      "e53f6177b2a3e2ef096120a9fed13b5353f2ef7e\n",
      "e53f6177b2a3e2ef096120a9fed13b5353f2ef7e\n",
      "d6846fe1c6b1c5f5de03a08038a2648712da4c2b\n",
      "dbf3c4a57f74c633b6a5cc43f5215673fd4c3a7c\n",
      "dbf3c4a57f74c633b6a5cc43f5215673fd4c3a7c\n",
      "dbf3c4a57f74c633b6a5cc43f5215673fd4c3a7c\n",
      "dbf3c4a57f74c633b6a5cc43f5215673fd4c3a7c\n",
      "5d5b672b7c916195fe3f29305affd16d5091a642\n",
      "edfea237f2081646e9ce769efb4b53678f3bece2\n",
      "edfea237f2081646e9ce769efb4b53678f3bece2\n",
      "affe1499c30c7ce5683fcfbf1bcfbca386ac2aa4\n",
      "affe1499c30c7ce5683fcfbf1bcfbca386ac2aa4\n",
      "affe1499c30c7ce5683fcfbf1bcfbca386ac2aa4\n",
      "affe1499c30c7ce5683fcfbf1bcfbca386ac2aa4\n",
      "affe1499c30c7ce5683fcfbf1bcfbca386ac2aa4\n",
      "affe1499c30c7ce5683fcfbf1bcfbca386ac2aa4\n",
      "881faa685c5bbb3f4dd05c63d37c3a5384713f8f\n",
      "0d8612b1c7f46da00345f7edc1280a16bdb78e2e\n",
      "b60132e55f9d8d49a88c39c3fc45581d6d857ec8\n",
      "7594fc9f541b5bccfafba99fb75e37f6c74ac1f4\n",
      "999ee72f8fa39e8c28d50dcb4f453de99aa400d7\n",
      "7e3ae9116b483ef11206d2b97d14e80a2744c7ec\n",
      "26a78ffec2b4e4c98dcda4ad2a11ad7ea7eb8e61\n",
      "6e624b36cde91df20436be6558e850ca0d0e60d2\n",
      "6e624b36cde91df20436be6558e850ca0d0e60d2\n",
      "4fa5fa62102d41c793183c7dbedd135f2b25ac8d\n",
      "cd4accdf09f8e48d8240824258c096d732ee8f1e\n",
      "19442f7317e94a9a7f5b607d859d0c2433471cb3\n",
      "d4fa91d126812f0ca13d411398268978d6d87d0f\n",
      "7a2486c661fe40bf82cedeebd518e80e477cab49\n",
      "7a2486c661fe40bf82cedeebd518e80e477cab49\n",
      "7080d6d57ae9e019935c4b5b07a39fef2d6ccc11\n",
      "9b1f68773e31546a6b40ce5166d7a2b71bb7a1a3\n",
      "9b1f68773e31546a6b40ce5166d7a2b71bb7a1a3\n",
      "484d5b93d8cecc0ee1e5cfdc7cba4b3b72574b2c\n",
      "f55ec4405455c529aba0cb74d3d857850ceee696\n",
      "02b5209d0fa33e54fb7b72d8c851ab218d444db9\n",
      "02b5209d0fa33e54fb7b72d8c851ab218d444db9\n",
      "5dbd8d8247056a43c9f077a10e3db7f12f666186\n",
      "7945fce6090dc49bc1905afcdda573ba1b5b39f5\n",
      "6e7bfd0fd1c4d3e0a1343c96646896a1d3239bf3\n",
      "59c843faff5b1c4fcaa490654d50db1da4a33b2e\n",
      "5e0e9c29a7737cd55751ba1cfb052f9658ab1085\n",
      "25746c276dad37ec881d2de2d94967e1829eeed5\n",
      "25746c276dad37ec881d2de2d94967e1829eeed5\n",
      "0a10c4276ba454a7097c7c8bf7056ca932b3af02\n",
      "0a10c4276ba454a7097c7c8bf7056ca932b3af02\n",
      "9a80265995f227231e156450f51451224ba6859a\n",
      "b4a1d50d23a601e8098d49487bd750399545a46a\n",
      "b7c7ddc0156241874af9b0b9e012251af1b7320a\n",
      "b7c7ddc0156241874af9b0b9e012251af1b7320a\n",
      "5f8e5c78c13941aec51f07a7b578cc10aab2afad\n",
      "ae9bd80a7df618d10fa4c7dfe36a75426a13e6b9\n",
      "6d2054d59f942cf56200355862e97017110eb834\n",
      "6d2054d59f942cf56200355862e97017110eb834\n",
      "2c9a063e5f15397725b72579756c2d1c794f9c6c\n",
      "bd7703f70301be06f00ef81b73116a0d8ccb3990\n",
      "192ea73ce8791aa8276b0463f11fa24c276b6de2\n",
      "daab08900e94a223a76a22a91062b8f20d4df4a6\n",
      "daab08900e94a223a76a22a91062b8f20d4df4a6\n",
      "daab08900e94a223a76a22a91062b8f20d4df4a6\n",
      "daab08900e94a223a76a22a91062b8f20d4df4a6\n",
      "4424489cdf992370eccd0e2606ffe4839cd54ffb\n",
      "de0241b2023a0a1f5cad87dcc9d2004cf7367984\n",
      "de0241b2023a0a1f5cad87dcc9d2004cf7367984\n",
      "e9b09b58e85fcf7392d616a3fb6c3436e64b1e33\n",
      "e9b09b58e85fcf7392d616a3fb6c3436e64b1e33\n",
      "e9b09b58e85fcf7392d616a3fb6c3436e64b1e33\n",
      "e9b09b58e85fcf7392d616a3fb6c3436e64b1e33\n",
      "e9b09b58e85fcf7392d616a3fb6c3436e64b1e33\n",
      "c0d8098a1a89165dbcfec1143e9b405e5e7df946\n",
      "c0d8098a1a89165dbcfec1143e9b405e5e7df946\n",
      "c0d8098a1a89165dbcfec1143e9b405e5e7df946\n",
      "c0d8098a1a89165dbcfec1143e9b405e5e7df946\n",
      "c0d8098a1a89165dbcfec1143e9b405e5e7df946\n",
      "c0d8098a1a89165dbcfec1143e9b405e5e7df946\n",
      "c0d8098a1a89165dbcfec1143e9b405e5e7df946\n",
      "c0d8098a1a89165dbcfec1143e9b405e5e7df946\n",
      "3b99cae9f27f6d167724b3e5200aebe55f590ab5\n",
      "3b99cae9f27f6d167724b3e5200aebe55f590ab5\n",
      "3b99cae9f27f6d167724b3e5200aebe55f590ab5\n",
      "44ba34a05c7262a44f95d42200cda81d2e0e803c\n",
      "2e118d2d595f9ce636e52c22fd989f6240983ec8\n",
      "2e118d2d595f9ce636e52c22fd989f6240983ec8\n",
      "2e118d2d595f9ce636e52c22fd989f6240983ec8\n"
     ]
    }
   ],
   "source": [
    "count = 0\n",
    "for index, row in library_in.iterrows():\n",
    "    if row['管制項目'] == '進':\n",
    "        for index1, row1 in library_in.iterrows():\n",
    "            if row['學生'] == row1['學生']:\n",
    "                count++"
   ]
  },
  {
   "cell_type": "code",
   "execution_count": 133,
   "metadata": {},
   "outputs": [],
   "source": [
    "rank = pd.read_csv('rank_train.csv')\n",
    "submit = pd.read_csv('submit.csv')\n",
    "test = pd.DataFrame"
   ]
  },
  {
   "cell_type": "code",
   "execution_count": 134,
   "metadata": {},
   "outputs": [],
   "source": [
    "student = np.array\n",
    "school_year = np.ones((len(submit),), dtype=int)\n",
    "grade = np.ones((len(submit),), dtype=int)\n",
    "semester = np.ones((len(submit),), dtype=int)\n",
    "rank_1 = np.ones((len(submit),), dtype=int)\n",
    "rank_dif = np.ones((len(submit),), dtype=int)"
   ]
  },
  {
   "cell_type": "code",
   "execution_count": 135,
   "metadata": {},
   "outputs": [
    {
     "ename": "KeyboardInterrupt",
     "evalue": "",
     "output_type": "error",
     "traceback": [
      "\u001b[1;31m---------------------------------------------------------------------------\u001b[0m",
      "\u001b[1;31mKeyboardInterrupt\u001b[0m                         Traceback (most recent call last)",
      "\u001b[1;32m<ipython-input-135-5e34f3ecebd6>\u001b[0m in \u001b[0;36m<module>\u001b[1;34m\u001b[0m\n\u001b[0;32m      1\u001b[0m \u001b[1;32mfor\u001b[0m \u001b[0mindex\u001b[0m\u001b[1;33m,\u001b[0m \u001b[0mrow\u001b[0m \u001b[1;32min\u001b[0m \u001b[0mrank\u001b[0m\u001b[1;33m.\u001b[0m\u001b[0miterrows\u001b[0m\u001b[1;33m(\u001b[0m\u001b[1;33m)\u001b[0m\u001b[1;33m:\u001b[0m\u001b[1;33m\u001b[0m\u001b[1;33m\u001b[0m\u001b[0m\n\u001b[1;32m----> 2\u001b[1;33m     \u001b[1;32mfor\u001b[0m \u001b[0mindex1\u001b[0m\u001b[1;33m,\u001b[0m \u001b[0mrow1\u001b[0m \u001b[1;32min\u001b[0m \u001b[0msubmit\u001b[0m\u001b[1;33m.\u001b[0m\u001b[0miterrows\u001b[0m\u001b[1;33m(\u001b[0m\u001b[1;33m)\u001b[0m\u001b[1;33m:\u001b[0m\u001b[1;33m\u001b[0m\u001b[1;33m\u001b[0m\u001b[0m\n\u001b[0m\u001b[0;32m      3\u001b[0m         \u001b[1;32mif\u001b[0m \u001b[0mrow\u001b[0m\u001b[1;33m[\u001b[0m\u001b[1;34m'學生'\u001b[0m\u001b[1;33m]\u001b[0m \u001b[1;33m==\u001b[0m \u001b[0mrow1\u001b[0m\u001b[1;33m[\u001b[0m\u001b[1;34m'學生'\u001b[0m\u001b[1;33m]\u001b[0m\u001b[1;33m:\u001b[0m\u001b[1;33m\u001b[0m\u001b[1;33m\u001b[0m\u001b[0m\n\u001b[0;32m      4\u001b[0m             \u001b[0mstudent\u001b[0m \u001b[1;33m=\u001b[0m \u001b[0mrow\u001b[0m\u001b[1;33m[\u001b[0m\u001b[1;34m'學生'\u001b[0m\u001b[1;33m]\u001b[0m\u001b[1;33m\u001b[0m\u001b[1;33m\u001b[0m\u001b[0m\n\u001b[0;32m      5\u001b[0m             \u001b[0mschool_year\u001b[0m\u001b[1;33m[\u001b[0m\u001b[0mindex1\u001b[0m\u001b[1;33m]\u001b[0m \u001b[1;33m=\u001b[0m \u001b[0mrow\u001b[0m\u001b[1;33m[\u001b[0m\u001b[1;34m'學年'\u001b[0m\u001b[1;33m]\u001b[0m\u001b[1;33m\u001b[0m\u001b[1;33m\u001b[0m\u001b[0m\n",
      "\u001b[1;32m~\\.conda\\envs\\tensorflow\\lib\\site-packages\\pandas\\core\\frame.py\u001b[0m in \u001b[0;36miterrows\u001b[1;34m(self)\u001b[0m\n\u001b[0;32m    950\u001b[0m         \u001b[0mklass\u001b[0m \u001b[1;33m=\u001b[0m \u001b[0mself\u001b[0m\u001b[1;33m.\u001b[0m\u001b[0m_constructor_sliced\u001b[0m\u001b[1;33m\u001b[0m\u001b[1;33m\u001b[0m\u001b[0m\n\u001b[0;32m    951\u001b[0m         \u001b[1;32mfor\u001b[0m \u001b[0mk\u001b[0m\u001b[1;33m,\u001b[0m \u001b[0mv\u001b[0m \u001b[1;32min\u001b[0m \u001b[0mzip\u001b[0m\u001b[1;33m(\u001b[0m\u001b[0mself\u001b[0m\u001b[1;33m.\u001b[0m\u001b[0mindex\u001b[0m\u001b[1;33m,\u001b[0m \u001b[0mself\u001b[0m\u001b[1;33m.\u001b[0m\u001b[0mvalues\u001b[0m\u001b[1;33m)\u001b[0m\u001b[1;33m:\u001b[0m\u001b[1;33m\u001b[0m\u001b[1;33m\u001b[0m\u001b[0m\n\u001b[1;32m--> 952\u001b[1;33m             \u001b[0ms\u001b[0m \u001b[1;33m=\u001b[0m \u001b[0mklass\u001b[0m\u001b[1;33m(\u001b[0m\u001b[0mv\u001b[0m\u001b[1;33m,\u001b[0m \u001b[0mindex\u001b[0m\u001b[1;33m=\u001b[0m\u001b[0mcolumns\u001b[0m\u001b[1;33m,\u001b[0m \u001b[0mname\u001b[0m\u001b[1;33m=\u001b[0m\u001b[0mk\u001b[0m\u001b[1;33m)\u001b[0m\u001b[1;33m\u001b[0m\u001b[1;33m\u001b[0m\u001b[0m\n\u001b[0m\u001b[0;32m    953\u001b[0m             \u001b[1;32myield\u001b[0m \u001b[0mk\u001b[0m\u001b[1;33m,\u001b[0m \u001b[0ms\u001b[0m\u001b[1;33m\u001b[0m\u001b[1;33m\u001b[0m\u001b[0m\n\u001b[0;32m    954\u001b[0m \u001b[1;33m\u001b[0m\u001b[0m\n",
      "\u001b[1;32m~\\.conda\\envs\\tensorflow\\lib\\site-packages\\pandas\\core\\series.py\u001b[0m in \u001b[0;36m__init__\u001b[1;34m(self, data, index, dtype, name, copy, fastpath)\u001b[0m\n\u001b[0;32m    305\u001b[0m                 \u001b[0mdata\u001b[0m \u001b[1;33m=\u001b[0m \u001b[0msanitize_array\u001b[0m\u001b[1;33m(\u001b[0m\u001b[0mdata\u001b[0m\u001b[1;33m,\u001b[0m \u001b[0mindex\u001b[0m\u001b[1;33m,\u001b[0m \u001b[0mdtype\u001b[0m\u001b[1;33m,\u001b[0m \u001b[0mcopy\u001b[0m\u001b[1;33m,\u001b[0m \u001b[0mraise_cast_failure\u001b[0m\u001b[1;33m=\u001b[0m\u001b[1;32mTrue\u001b[0m\u001b[1;33m)\u001b[0m\u001b[1;33m\u001b[0m\u001b[1;33m\u001b[0m\u001b[0m\n\u001b[0;32m    306\u001b[0m \u001b[1;33m\u001b[0m\u001b[0m\n\u001b[1;32m--> 307\u001b[1;33m                 \u001b[0mdata\u001b[0m \u001b[1;33m=\u001b[0m \u001b[0mSingleBlockManager\u001b[0m\u001b[1;33m(\u001b[0m\u001b[0mdata\u001b[0m\u001b[1;33m,\u001b[0m \u001b[0mindex\u001b[0m\u001b[1;33m,\u001b[0m \u001b[0mfastpath\u001b[0m\u001b[1;33m=\u001b[0m\u001b[1;32mTrue\u001b[0m\u001b[1;33m)\u001b[0m\u001b[1;33m\u001b[0m\u001b[1;33m\u001b[0m\u001b[0m\n\u001b[0m\u001b[0;32m    308\u001b[0m \u001b[1;33m\u001b[0m\u001b[0m\n\u001b[0;32m    309\u001b[0m         \u001b[0mgeneric\u001b[0m\u001b[1;33m.\u001b[0m\u001b[0mNDFrame\u001b[0m\u001b[1;33m.\u001b[0m\u001b[0m__init__\u001b[0m\u001b[1;33m(\u001b[0m\u001b[0mself\u001b[0m\u001b[1;33m,\u001b[0m \u001b[0mdata\u001b[0m\u001b[1;33m,\u001b[0m \u001b[0mfastpath\u001b[0m\u001b[1;33m=\u001b[0m\u001b[1;32mTrue\u001b[0m\u001b[1;33m)\u001b[0m\u001b[1;33m\u001b[0m\u001b[1;33m\u001b[0m\u001b[0m\n",
      "\u001b[1;32m~\\.conda\\envs\\tensorflow\\lib\\site-packages\\pandas\\core\\internals\\managers.py\u001b[0m in \u001b[0;36m__init__\u001b[1;34m(self, block, axis, do_integrity_check, fastpath)\u001b[0m\n\u001b[0;32m   1511\u001b[0m \u001b[1;33m\u001b[0m\u001b[0m\n\u001b[0;32m   1512\u001b[0m         \u001b[1;32mif\u001b[0m \u001b[1;32mnot\u001b[0m \u001b[0misinstance\u001b[0m\u001b[1;33m(\u001b[0m\u001b[0mblock\u001b[0m\u001b[1;33m,\u001b[0m \u001b[0mBlock\u001b[0m\u001b[1;33m)\u001b[0m\u001b[1;33m:\u001b[0m\u001b[1;33m\u001b[0m\u001b[1;33m\u001b[0m\u001b[0m\n\u001b[1;32m-> 1513\u001b[1;33m             \u001b[0mblock\u001b[0m \u001b[1;33m=\u001b[0m \u001b[0mmake_block\u001b[0m\u001b[1;33m(\u001b[0m\u001b[0mblock\u001b[0m\u001b[1;33m,\u001b[0m \u001b[0mplacement\u001b[0m\u001b[1;33m=\u001b[0m\u001b[0mslice\u001b[0m\u001b[1;33m(\u001b[0m\u001b[1;36m0\u001b[0m\u001b[1;33m,\u001b[0m \u001b[0mlen\u001b[0m\u001b[1;33m(\u001b[0m\u001b[0maxis\u001b[0m\u001b[1;33m)\u001b[0m\u001b[1;33m)\u001b[0m\u001b[1;33m,\u001b[0m \u001b[0mndim\u001b[0m\u001b[1;33m=\u001b[0m\u001b[1;36m1\u001b[0m\u001b[1;33m)\u001b[0m\u001b[1;33m\u001b[0m\u001b[1;33m\u001b[0m\u001b[0m\n\u001b[0m\u001b[0;32m   1514\u001b[0m \u001b[1;33m\u001b[0m\u001b[0m\n\u001b[0;32m   1515\u001b[0m         \u001b[0mself\u001b[0m\u001b[1;33m.\u001b[0m\u001b[0mblocks\u001b[0m \u001b[1;33m=\u001b[0m \u001b[0mtuple\u001b[0m\u001b[1;33m(\u001b[0m\u001b[1;33m[\u001b[0m\u001b[0mblock\u001b[0m\u001b[1;33m]\u001b[0m\u001b[1;33m)\u001b[0m\u001b[1;33m\u001b[0m\u001b[1;33m\u001b[0m\u001b[0m\n",
      "\u001b[1;32m~\\.conda\\envs\\tensorflow\\lib\\site-packages\\pandas\\core\\internals\\blocks.py\u001b[0m in \u001b[0;36mmake_block\u001b[1;34m(values, placement, klass, ndim, dtype)\u001b[0m\n\u001b[0;32m   3038\u001b[0m     \u001b[1;32mif\u001b[0m \u001b[0mklass\u001b[0m \u001b[1;32mis\u001b[0m \u001b[1;32mNone\u001b[0m\u001b[1;33m:\u001b[0m\u001b[1;33m\u001b[0m\u001b[1;33m\u001b[0m\u001b[0m\n\u001b[0;32m   3039\u001b[0m         \u001b[0mdtype\u001b[0m \u001b[1;33m=\u001b[0m \u001b[0mdtype\u001b[0m \u001b[1;32mor\u001b[0m \u001b[0mvalues\u001b[0m\u001b[1;33m.\u001b[0m\u001b[0mdtype\u001b[0m\u001b[1;33m\u001b[0m\u001b[1;33m\u001b[0m\u001b[0m\n\u001b[1;32m-> 3040\u001b[1;33m         \u001b[0mklass\u001b[0m \u001b[1;33m=\u001b[0m \u001b[0mget_block_type\u001b[0m\u001b[1;33m(\u001b[0m\u001b[0mvalues\u001b[0m\u001b[1;33m,\u001b[0m \u001b[0mdtype\u001b[0m\u001b[1;33m)\u001b[0m\u001b[1;33m\u001b[0m\u001b[1;33m\u001b[0m\u001b[0m\n\u001b[0m\u001b[0;32m   3041\u001b[0m \u001b[1;33m\u001b[0m\u001b[0m\n\u001b[0;32m   3042\u001b[0m     \u001b[1;32melif\u001b[0m \u001b[0mklass\u001b[0m \u001b[1;32mis\u001b[0m \u001b[0mDatetimeTZBlock\u001b[0m \u001b[1;32mand\u001b[0m \u001b[1;32mnot\u001b[0m \u001b[0mis_datetime64tz_dtype\u001b[0m\u001b[1;33m(\u001b[0m\u001b[0mvalues\u001b[0m\u001b[1;33m)\u001b[0m\u001b[1;33m:\u001b[0m\u001b[1;33m\u001b[0m\u001b[1;33m\u001b[0m\u001b[0m\n",
      "\u001b[1;32m~\\.conda\\envs\\tensorflow\\lib\\site-packages\\pandas\\core\\internals\\blocks.py\u001b[0m in \u001b[0;36mget_block_type\u001b[1;34m(values, dtype)\u001b[0m\n\u001b[0;32m   3003\u001b[0m         \u001b[1;32massert\u001b[0m \u001b[1;32mnot\u001b[0m \u001b[0mis_datetime64tz_dtype\u001b[0m\u001b[1;33m(\u001b[0m\u001b[0mvalues\u001b[0m\u001b[1;33m)\u001b[0m\u001b[1;33m\u001b[0m\u001b[1;33m\u001b[0m\u001b[0m\n\u001b[0;32m   3004\u001b[0m         \u001b[0mcls\u001b[0m \u001b[1;33m=\u001b[0m \u001b[0mDatetimeBlock\u001b[0m\u001b[1;33m\u001b[0m\u001b[1;33m\u001b[0m\u001b[0m\n\u001b[1;32m-> 3005\u001b[1;33m     \u001b[1;32melif\u001b[0m \u001b[0mis_datetime64tz_dtype\u001b[0m\u001b[1;33m(\u001b[0m\u001b[0mvalues\u001b[0m\u001b[1;33m)\u001b[0m\u001b[1;33m:\u001b[0m\u001b[1;33m\u001b[0m\u001b[1;33m\u001b[0m\u001b[0m\n\u001b[0m\u001b[0;32m   3006\u001b[0m         \u001b[0mcls\u001b[0m \u001b[1;33m=\u001b[0m \u001b[0mDatetimeTZBlock\u001b[0m\u001b[1;33m\u001b[0m\u001b[1;33m\u001b[0m\u001b[0m\n\u001b[0;32m   3007\u001b[0m     \u001b[1;32melif\u001b[0m \u001b[0mis_interval_dtype\u001b[0m\u001b[1;33m(\u001b[0m\u001b[0mdtype\u001b[0m\u001b[1;33m)\u001b[0m \u001b[1;32mor\u001b[0m \u001b[0mis_period_dtype\u001b[0m\u001b[1;33m(\u001b[0m\u001b[0mdtype\u001b[0m\u001b[1;33m)\u001b[0m\u001b[1;33m:\u001b[0m\u001b[1;33m\u001b[0m\u001b[1;33m\u001b[0m\u001b[0m\n",
      "\u001b[1;32m~\\.conda\\envs\\tensorflow\\lib\\site-packages\\pandas\\core\\dtypes\\common.py\u001b[0m in \u001b[0;36mis_datetime64tz_dtype\u001b[1;34m(arr_or_dtype)\u001b[0m\n\u001b[0;32m    436\u001b[0m     \u001b[1;32mif\u001b[0m \u001b[0marr_or_dtype\u001b[0m \u001b[1;32mis\u001b[0m \u001b[1;32mNone\u001b[0m\u001b[1;33m:\u001b[0m\u001b[1;33m\u001b[0m\u001b[1;33m\u001b[0m\u001b[0m\n\u001b[0;32m    437\u001b[0m         \u001b[1;32mreturn\u001b[0m \u001b[1;32mFalse\u001b[0m\u001b[1;33m\u001b[0m\u001b[1;33m\u001b[0m\u001b[0m\n\u001b[1;32m--> 438\u001b[1;33m     \u001b[1;32mreturn\u001b[0m \u001b[0mDatetimeTZDtype\u001b[0m\u001b[1;33m.\u001b[0m\u001b[0mis_dtype\u001b[0m\u001b[1;33m(\u001b[0m\u001b[0marr_or_dtype\u001b[0m\u001b[1;33m)\u001b[0m\u001b[1;33m\u001b[0m\u001b[1;33m\u001b[0m\u001b[0m\n\u001b[0m\u001b[0;32m    439\u001b[0m \u001b[1;33m\u001b[0m\u001b[0m\n\u001b[0;32m    440\u001b[0m \u001b[1;33m\u001b[0m\u001b[0m\n",
      "\u001b[1;32m~\\.conda\\envs\\tensorflow\\lib\\site-packages\\pandas\\core\\dtypes\\base.py\u001b[0m in \u001b[0;36mis_dtype\u001b[1;34m(cls, dtype)\u001b[0m\n\u001b[0;32m    271\u001b[0m         \u001b[0mdtype\u001b[0m \u001b[1;33m=\u001b[0m \u001b[0mgetattr\u001b[0m\u001b[1;33m(\u001b[0m\u001b[0mdtype\u001b[0m\u001b[1;33m,\u001b[0m \u001b[1;34m\"dtype\"\u001b[0m\u001b[1;33m,\u001b[0m \u001b[0mdtype\u001b[0m\u001b[1;33m)\u001b[0m\u001b[1;33m\u001b[0m\u001b[1;33m\u001b[0m\u001b[0m\n\u001b[0;32m    272\u001b[0m \u001b[1;33m\u001b[0m\u001b[0m\n\u001b[1;32m--> 273\u001b[1;33m         \u001b[1;32mif\u001b[0m \u001b[0misinstance\u001b[0m\u001b[1;33m(\u001b[0m\u001b[0mdtype\u001b[0m\u001b[1;33m,\u001b[0m \u001b[1;33m(\u001b[0m\u001b[0mABCSeries\u001b[0m\u001b[1;33m,\u001b[0m \u001b[0mABCIndexClass\u001b[0m\u001b[1;33m,\u001b[0m \u001b[0mABCDataFrame\u001b[0m\u001b[1;33m,\u001b[0m \u001b[0mnp\u001b[0m\u001b[1;33m.\u001b[0m\u001b[0mdtype\u001b[0m\u001b[1;33m)\u001b[0m\u001b[1;33m)\u001b[0m\u001b[1;33m:\u001b[0m\u001b[1;33m\u001b[0m\u001b[1;33m\u001b[0m\u001b[0m\n\u001b[0m\u001b[0;32m    274\u001b[0m             \u001b[1;31m# https://github.com/pandas-dev/pandas/issues/22960\u001b[0m\u001b[1;33m\u001b[0m\u001b[1;33m\u001b[0m\u001b[1;33m\u001b[0m\u001b[0m\n\u001b[0;32m    275\u001b[0m             \u001b[1;31m# avoid passing data to `construct_from_string`. This could\u001b[0m\u001b[1;33m\u001b[0m\u001b[1;33m\u001b[0m\u001b[1;33m\u001b[0m\u001b[0m\n",
      "\u001b[1;32m~\\.conda\\envs\\tensorflow\\lib\\site-packages\\pandas\\core\\dtypes\\generic.py\u001b[0m in \u001b[0;36m_check\u001b[1;34m(cls, inst)\u001b[0m\n\u001b[0;32m     10\u001b[0m     \u001b[1;33m@\u001b[0m\u001b[0mclassmethod\u001b[0m  \u001b[1;31m# type: ignore\u001b[0m\u001b[1;33m\u001b[0m\u001b[1;33m\u001b[0m\u001b[0m\n\u001b[0;32m     11\u001b[0m     \u001b[1;32mdef\u001b[0m \u001b[0m_check\u001b[0m\u001b[1;33m(\u001b[0m\u001b[0mcls\u001b[0m\u001b[1;33m,\u001b[0m \u001b[0minst\u001b[0m\u001b[1;33m)\u001b[0m \u001b[1;33m->\u001b[0m \u001b[0mbool\u001b[0m\u001b[1;33m:\u001b[0m\u001b[1;33m\u001b[0m\u001b[1;33m\u001b[0m\u001b[0m\n\u001b[1;32m---> 12\u001b[1;33m         \u001b[1;32mreturn\u001b[0m \u001b[0mgetattr\u001b[0m\u001b[1;33m(\u001b[0m\u001b[0minst\u001b[0m\u001b[1;33m,\u001b[0m \u001b[0mattr\u001b[0m\u001b[1;33m,\u001b[0m \u001b[1;34m\"_typ\"\u001b[0m\u001b[1;33m)\u001b[0m \u001b[1;32min\u001b[0m \u001b[0mcomp\u001b[0m\u001b[1;33m\u001b[0m\u001b[1;33m\u001b[0m\u001b[0m\n\u001b[0m\u001b[0;32m     13\u001b[0m \u001b[1;33m\u001b[0m\u001b[0m\n\u001b[0;32m     14\u001b[0m     \u001b[0mdct\u001b[0m \u001b[1;33m=\u001b[0m \u001b[0mdict\u001b[0m\u001b[1;33m(\u001b[0m\u001b[0m__instancecheck__\u001b[0m\u001b[1;33m=\u001b[0m\u001b[0m_check\u001b[0m\u001b[1;33m,\u001b[0m \u001b[0m__subclasscheck__\u001b[0m\u001b[1;33m=\u001b[0m\u001b[0m_check\u001b[0m\u001b[1;33m)\u001b[0m\u001b[1;33m\u001b[0m\u001b[1;33m\u001b[0m\u001b[0m\n",
      "\u001b[1;31mKeyboardInterrupt\u001b[0m: "
     ]
    }
   ],
   "source": [
    "for index, row in rank.iterrows():\n",
    "    for index1, row1 in submit.iterrows():\n",
    "        if row['學生'] == row1['學生']:\n",
    "            student = row['學生']\n",
    "            school_year[index1] = row['學年']\n",
    "            grade[index1] = row['年級']\n",
    "            semester[index1] = row['學期']\n",
    "            rank[index1] = row['概化排名']\n",
    "            rank_dif[index1] = row['排名差']"
   ]
  },
  {
   "cell_type": "code",
   "execution_count": null,
   "metadata": {},
   "outputs": [],
   "source": []
  }
 ],
 "metadata": {
  "kernelspec": {
   "display_name": "Python 3",
   "language": "python",
   "name": "python3"
  },
  "language_info": {
   "codemirror_mode": {
    "name": "ipython",
    "version": 3
   },
   "file_extension": ".py",
   "mimetype": "text/x-python",
   "name": "python",
   "nbconvert_exporter": "python",
   "pygments_lexer": "ipython3",
   "version": "3.6.10"
  }
 },
 "nbformat": 4,
 "nbformat_minor": 4
}
